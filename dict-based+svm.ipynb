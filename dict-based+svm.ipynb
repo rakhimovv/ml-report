{
 "cells": [
  {
   "cell_type": "code",
   "execution_count": 1,
   "metadata": {},
   "outputs": [
    {
     "name": "stderr",
     "output_type": "stream",
     "text": [
      "/Users/ruslan/miniconda3/lib/python3.6/site-packages/h5py/__init__.py:36: FutureWarning: Conversion of the second argument of issubdtype from `float` to `np.floating` is deprecated. In future, it will be treated as `np.float64 == np.dtype(float).type`.\n",
      "  from ._conv import register_converters as _register_converters\n",
      "Using TensorFlow backend.\n"
     ]
    }
   ],
   "source": [
    "from __future__ import division, print_function\n",
    "\n",
    "import json\n",
    "import logging\n",
    "import re\n",
    "import pymorphy2\n",
    "\n",
    "import fasttext\n",
    "import matplotlib.pyplot as plt\n",
    "import numpy as np\n",
    "import scipy.sparse\n",
    "from pandas.io.json import json_normalize\n",
    "from scipy.interpolate import interp2d\n",
    "from sklearn.metrics import f1_score\n",
    "from sklearn.base import BaseEstimator, ClassifierMixin, TransformerMixin\n",
    "from sklearn.svm import LinearSVC\n",
    "from sklearn.model_selection import cross_val_score\n",
    "from sklearn.pipeline import Pipeline\n",
    "from tqdm import tqdm_notebook\n",
    "\n",
    "from fasttext_loader import FasttextLoader\n",
    "from preprocessing_tools import inds_texts_labels, MultiLabelEncoder, MultilabelStratifiedKFold, DictTransformer\n",
    "%matplotlib inline"
   ]
  },
  {
   "cell_type": "code",
   "execution_count": 2,
   "metadata": {},
   "outputs": [],
   "source": [
    "logging.basicConfig(level=logging.INFO,\n",
    "                    format='%(asctime)s %(levelname)s %(message)s')"
   ]
  },
  {
   "cell_type": "code",
   "execution_count": 3,
   "metadata": {},
   "outputs": [],
   "source": [
    "seed = 7\n",
    "np.random.seed(seed)"
   ]
  },
  {
   "cell_type": "markdown",
   "metadata": {},
   "source": [
    "### Data loading"
   ]
  },
  {
   "cell_type": "code",
   "execution_count": 4,
   "metadata": {},
   "outputs": [],
   "source": [
    "w2v_loader = FasttextLoader()\n",
    "w2v_loader.load(\"/Users/Ruslan/Downloads/fasttext.bin\")"
   ]
  },
  {
   "cell_type": "code",
   "execution_count": 5,
   "metadata": {},
   "outputs": [
    {
     "name": "stdout",
     "output_type": "stream",
     "text": [
      "Num of data < min_len: 0\n",
      "Num of multilabel data: 457\n",
      "Num of not_xeno or unknown: 368\n",
      "Num of duplicates: 0\n"
     ]
    }
   ],
   "source": [
    "_, X, y = inds_texts_labels(\"../data/all_xeno_labeled.json\", w2v_loader)\n",
    "mlb = MultiLabelEncoder()\n",
    "y = mlb.fit_transform(y)"
   ]
  },
  {
   "cell_type": "code",
   "execution_count": 6,
   "metadata": {},
   "outputs": [
    {
     "data": {
      "text/plain": [
       "(3113, 7)"
      ]
     },
     "execution_count": 6,
     "metadata": {},
     "output_type": "execute_result"
    }
   ],
   "source": [
    "y.shape"
   ]
  },
  {
   "cell_type": "code",
   "execution_count": 7,
   "metadata": {},
   "outputs": [],
   "source": [
    "with open('nations.json', 'r') as fp:\n",
    "    label_to_nation = json.load(fp)\n",
    "label_to_nation = {int(k):v for k,v in label_to_nation.items()}"
   ]
  },
  {
   "cell_type": "markdown",
   "metadata": {},
   "source": [
    "### SVM"
   ]
  },
  {
   "cell_type": "code",
   "execution_count": 8,
   "metadata": {},
   "outputs": [],
   "source": [
    "class MultilabelLinearSVC(BaseEstimator, ClassifierMixin):  \n",
    "    \"\"\"An example of classifier\"\"\"\n",
    "\n",
    "    def __init__(self):\n",
    "        self.svms = {}\n",
    "\n",
    "    def fit(self, X, y):\n",
    "        for i in range(len(y.T)):\n",
    "            self.svms[i] = LinearSVC()\n",
    "            self.svms[i].fit(X, y[:, i])\n",
    "        return self\n",
    "\n",
    "    def predict(self, X, y=None):\n",
    "        return np.array([self.svms[i].predict(X) for i in range(len(self.svms))]).T\n",
    "\n",
    "    def score(self, X, y):\n",
    "        return f1_score(y, self.predict(X), average=\"samples\")"
   ]
  },
  {
   "cell_type": "code",
   "execution_count": 9,
   "metadata": {},
   "outputs": [
    {
     "name": "stderr",
     "output_type": "stream",
     "text": [
      "2018-04-24 15:33:56,043 INFO Loading dictionaries from /Users/ruslan/miniconda3/lib/python3.6/site-packages/pymorphy2_dicts/data\n",
      "2018-04-24 15:33:56,125 INFO format: 2.4, revision: 393442, updated: 2015-01-17T16:03:56.586168\n",
      "2018-04-24 15:33:56,195 INFO Loading dictionaries from /Users/ruslan/miniconda3/lib/python3.6/site-packages/pymorphy2_dicts/data\n",
      "2018-04-24 15:33:56,256 INFO format: 2.4, revision: 393442, updated: 2015-01-17T16:03:56.586168\n"
     ]
    },
    {
     "name": "stdout",
     "output_type": "stream",
     "text": [
      "Fold distributions are\n",
      "[[170.  26. 141. 538. 164.  88.  59.]\n",
      " [174.  26. 145. 552. 168.  91.  60.]\n",
      " [174.  26. 144. 550. 168.  90.  60.]]\n"
     ]
    },
    {
     "name": "stderr",
     "output_type": "stream",
     "text": [
      "/Users/ruslan/miniconda3/lib/python3.6/site-packages/sklearn/metrics/classification.py:1135: UndefinedMetricWarning: F-score is ill-defined and being set to 0.0 in samples with no predicted labels.\n",
      "  'precision', 'predicted', average, warn_for)\n",
      "2018-04-24 15:34:15,948 INFO Loading dictionaries from /Users/ruslan/miniconda3/lib/python3.6/site-packages/pymorphy2_dicts/data\n",
      "2018-04-24 15:34:16,014 INFO format: 2.4, revision: 393442, updated: 2015-01-17T16:03:56.586168\n",
      "/Users/ruslan/miniconda3/lib/python3.6/site-packages/sklearn/metrics/classification.py:1135: UndefinedMetricWarning: F-score is ill-defined and being set to 0.0 in samples with no predicted labels.\n",
      "  'precision', 'predicted', average, warn_for)\n",
      "2018-04-24 15:34:36,237 INFO Loading dictionaries from /Users/ruslan/miniconda3/lib/python3.6/site-packages/pymorphy2_dicts/data\n",
      "2018-04-24 15:34:36,298 INFO format: 2.4, revision: 393442, updated: 2015-01-17T16:03:56.586168\n",
      "/Users/ruslan/miniconda3/lib/python3.6/site-packages/sklearn/metrics/classification.py:1135: UndefinedMetricWarning: F-score is ill-defined and being set to 0.0 in samples with no predicted labels.\n",
      "  'precision', 'predicted', average, warn_for)\n"
     ]
    }
   ],
   "source": [
    "pipeline = Pipeline([\n",
    "    ('vect', DictTransformer(\"cleaned.csv\")),\n",
    "    ('clf', MultilabelLinearSVC()),\n",
    "])\n",
    "scores = cross_val_score(pipeline, X, y, cv=MultilabelStratifiedKFold(y, 3))"
   ]
  },
  {
   "cell_type": "code",
   "execution_count": 10,
   "metadata": {},
   "outputs": [
    {
     "data": {
      "text/plain": [
       "0.7880045045345367"
      ]
     },
     "execution_count": 10,
     "metadata": {},
     "output_type": "execute_result"
    }
   ],
   "source": [
    "scores.mean()"
   ]
  },
  {
   "cell_type": "code",
   "execution_count": 11,
   "metadata": {},
   "outputs": [
    {
     "data": {
      "text/plain": [
       "0.006026617347027513"
      ]
     },
     "execution_count": 11,
     "metadata": {},
     "output_type": "execute_result"
    }
   ],
   "source": [
    "scores.std()"
   ]
  },
  {
   "cell_type": "code",
   "execution_count": 12,
   "metadata": {},
   "outputs": [
    {
     "name": "stderr",
     "output_type": "stream",
     "text": [
      "2018-04-24 15:34:55,922 INFO Loading dictionaries from /Users/ruslan/miniconda3/lib/python3.6/site-packages/pymorphy2_dicts/data\n",
      "2018-04-24 15:34:56,001 INFO format: 2.4, revision: 393442, updated: 2015-01-17T16:03:56.586168\n"
     ]
    },
    {
     "data": {
      "text/plain": [
       "array([[0.  , 0.  , 0.  , 0.25, 0.  , 0.  , 0.  ]])"
      ]
     },
     "execution_count": 12,
     "metadata": {},
     "output_type": "execute_result"
    }
   ],
   "source": [
    "DictTransformer(\"cleaned.csv\").transform([\"хохол устал за день\"])"
   ]
  },
  {
   "cell_type": "code",
   "execution_count": null,
   "metadata": {},
   "outputs": [],
   "source": []
  }
 ],
 "metadata": {
  "kernelspec": {
   "display_name": "Python 3",
   "language": "python",
   "name": "python3"
  },
  "language_info": {
   "codemirror_mode": {
    "name": "ipython",
    "version": 3
   },
   "file_extension": ".py",
   "mimetype": "text/x-python",
   "name": "python",
   "nbconvert_exporter": "python",
   "pygments_lexer": "ipython3",
   "version": "3.6.5"
  }
 },
 "nbformat": 4,
 "nbformat_minor": 2
}
